{
 "cells": [
  {
   "attachments": {},
   "cell_type": "markdown",
   "metadata": {},
   "source": []
  },
  {
   "cell_type": "code",
   "execution_count": 1,
   "metadata": {},
   "outputs": [],
   "source": [
    "import jax.numpy as jnp\n",
    "import jax.random as jrandom\n",
    "\n",
    "import numpy as np\n",
    "import matplotlib.pyplot as plt\n",
    "import seaborn as sns\n",
    "sns.set_theme(context='paper', style='darkgrid', palette='pastel')\n",
    "\n",
    "# import local libraries\n",
    "from environments.linear import Linear_SDI\n",
    "from environments.orbit import Orbital_SDI\n",
    "from environments.box import Box_SDI\n",
    "\n",
    "from src.OptimalControl.LQR import LQRSolver\n",
    "from src.OptimalControl.KalmanFilter import KalmanFilter\n",
    "from src.OptimalControl.LQG import LQGSolver"
   ]
  },
  {
   "cell_type": "code",
   "execution_count": 2,
   "metadata": {},
   "outputs": [],
   "source": [
    "def run_LQR(env, controller, T=20, dt=.1, x0=None):\n",
    "    time_space = np.arange(0, T, dt)\n",
    "    X = np.zeros((len(time_space)+1, env.dim))\n",
    "    Y = np.zeros((len(time_space)+1, env.dim))\n",
    "    U = np.zeros((len(time_space), env.dim))\n",
    "    R = np.zeros((len(time_space), env.dim))\n",
    "\n",
    "    y = env.reset(x0=x0)\n",
    "\n",
    "    X[0] = env.state\n",
    "    Y[0] = y\n",
    "\n",
    "    for it, t, in enumerate(time_space):\n",
    "        u = controller(env.state)\n",
    "        y, rew, done, _ = env.step(u)\n",
    "\n",
    "        X[it+1] = env.state\n",
    "        Y[it+1] = y\n",
    "        U[it] = u\n",
    "        R[it] = rew\n",
    "    \n",
    "    return X, Y, U, R\n",
    "\n",
    "def run_LQG(env, controller, T=20, dt=.1, x0=None):\n",
    "    time_space = np.arange(0, T, dt)\n",
    "    X = np.zeros((len(time_space)+1, env.dim))\n",
    "    Y = np.zeros((len(time_space)+1, env.dim))\n",
    "    U = np.zeros((len(time_space), env.dim))\n",
    "    R = np.zeros((len(time_space), env.dim))\n",
    "\n",
    "    y = env.reset(x0=x0)\n",
    "    controller.x_est = y\n",
    "    u = None\n",
    "\n",
    "    X[0] = env.state\n",
    "    Y[0] = y\n",
    "\n",
    "    for it, t, in enumerate(time_space):\n",
    "        u = controller.step(y, u, dt=dt)\n",
    "        y, rew, done, _ = env.step(u[1])\n",
    "\n",
    "        X[it+1] = env.state\n",
    "        Y[it+1] = y\n",
    "        U[it] = u\n",
    "        R[it] = rew\n",
    "    \n",
    "    return X, Y, U, R\n"
   ]
  },
  {
   "attachments": {},
   "cell_type": "markdown",
   "metadata": {},
   "source": [
    "### Linear"
   ]
  },
  {
   "cell_type": "code",
   "execution_count": 16,
   "metadata": {},
   "outputs": [],
   "source": [
    "T = 20\n",
    "dt = .1\n",
    "x0 = jnp.array([-10, 0])\n",
    "\n",
    "env = Linear_SDI(dt=dt, end_time=T)\n",
    "env.v = jnp.identity(env.dim) * 0\n",
    "controller = LQRSolver(env.A, env.B, env.G, env.R)\n",
    "\n",
    "X_lqr, Y, U, R = run_LQR(env, controller, T=T, dt=dt, x0=x0)\n",
    "\n",
    "env.v = jnp.identity(env.dim) * .5\n",
    "controller = LQGSolver(env.A, env.B, env.C, env.w, env.v, env.G, jnp.identity(env.dim), None)\n",
    "\n",
    "X_lqg, _, _, _ = run_LQG(env, controller, T=T, dt=dt, x0=x0)\n"
   ]
  },
  {
   "cell_type": "code",
   "execution_count": 17,
   "metadata": {},
   "outputs": [],
   "source": [
    "env.v = jnp.identity(env.dim) * 0\n",
    "\n",
    "N = 10\n",
    "\n",
    "x_space = np.linspace(-10, 10, N)\n",
    "v_space = np.linspace(-5, 5, N)\n",
    "xv, vv = np.meshgrid(x_space, v_space)\n",
    "qx = np.zeros((N,N))\n",
    "qv = np.zeros((N,N))\n",
    "\n",
    "for i, x in enumerate(x_space):\n",
    "  for j, v in enumerate(v_space):\n",
    "    state = jnp.array([xv[i,j], vv[i,j]])\n",
    "    dx, dv = env.predict_deriv(state, 0)\n",
    "    qx[i,j] = dx\n",
    "    qv[i,j] = dv"
   ]
  },
  {
   "cell_type": "code",
   "execution_count": 18,
   "metadata": {},
   "outputs": [
    {
     "data": {
      "image/png": "[encoded data removed]",
      "text/plain": [
       "<Figure size 288x216 with 1 Axes>"
      ]
     },
     "metadata": {
      "needs_background": "light"
     },
     "output_type": "display_data"
    }
   ],
   "source": [
    "fig, ax = plt.subplots(figsize=(4, 3))\n",
    "\n",
    "ax.streamplot(xv, vv, qx, qv, density=.3, color='lightgrey')\n",
    "\n",
    "ax.plot(X_lqr[:,0], X_lqr[:,1], label='LQR')\n",
    "ax.plot(X_lqg[:,0], X_lqg[:,1], label=r'LQG ($\\sigma_v=.5$)')\n",
    "\n",
    "ax.set_xlim([-10.5, 10.5])\n",
    "ax.set_ylim([-5.5, 5.5])\n",
    "ax.set_xticks(np.linspace(-10, 10, 5))\n",
    "ax.set_yticks(np.linspace(-5, 5, 5))\n",
    "\n",
    "ax.set_xlabel('position (x)')\n",
    "ax.set_ylabel('velocity (v)')\n",
    "\n",
    "ax.legend()\n",
    "\n",
    "plt.tight_layout()\n",
    "\n",
    "figurename = f'figures/LQR_linear.png'\n",
    "plt.savefig(figurename, dpi=300)\n",
    "\n",
    "plt.show()"
   ]
  },
  {
   "attachments": {},
   "cell_type": "markdown",
   "metadata": {},
   "source": [
    "### Orbital"
   ]
  },
  {
   "cell_type": "code",
   "execution_count": 13,
   "metadata": {},
   "outputs": [],
   "source": [
    "threshold = 1.5\n",
    "x0 = jnp.array([(5/6)*np.pi, 4])\n",
    "\n",
    "env = Orbital_SDI(dt=dt, end_time=T)\n",
    "env.v = jnp.zeros((env.dim, env.dim))\n",
    "controller = LQRSolver(env.A, env.B, env.G, env.R)\n",
    "\n",
    "X_lqr, Y, U, R = run_LQR(env, controller, T=T, dt=dt, x0=x0)\n",
    "idx_tmp = np.where(X_lqr[:,0] > np.pi/2)[0]\n",
    "X_lqr[idx_tmp] += -2*np.pi\n",
    "\n",
    "env.v = jnp.identity(env.dim) * .5\n",
    "controller = LQGSolver(env.A, env.B, env.C, env.w, env.v, env.G, jnp.identity(env.dim), None)\n",
    "\n",
    "X_lqg, _, _, _ = run_LQG(env, controller, T=T, dt=dt, x0=x0)\n",
    "idx_tmp = np.where(X_lqg[:,0] > np.pi/2)[0]\n",
    "X_lqg[idx_tmp] += -2*np.pi\n"
   ]
  },
  {
   "cell_type": "code",
   "execution_count": 14,
   "metadata": {},
   "outputs": [],
   "source": [
    "env.v = jnp.identity(env.dim) * 0\n",
    "\n",
    "N = 10\n",
    "\n",
    "x_space = np.linspace(-(3/2)*np.pi, (1/2)*np.pi, N)\n",
    "v_space = np.linspace(-5, 5, N)\n",
    "xv, vv = np.meshgrid(x_space, v_space)\n",
    "qx = np.zeros((N,N))\n",
    "qv = np.zeros((N,N))\n",
    "\n",
    "for i, x in enumerate(x_space):\n",
    "  for j, v in enumerate(v_space):\n",
    "    state = jnp.array([xv[i,j], vv[i,j]])\n",
    "    dx, dv = env.predict_deriv(state, 0)\n",
    "    qx[i,j] = dx\n",
    "    qv[i,j] = dv"
   ]
  },
  {
   "cell_type": "code",
   "execution_count": 15,
   "metadata": {},
   "outputs": [
    {
     "data": {
      "image/png": "[encoded data removed]",
      "text/plain": [
       "<Figure size 288x216 with 1 Axes>"
      ]
     },
     "metadata": {
      "needs_background": "light"
     },
     "output_type": "display_data"
    }
   ],
   "source": [
    "fig, ax = plt.subplots(figsize=(4, 3))\n",
    "\n",
    "ax.streamplot(xv, vv, qx, qv, density=.3, color='lightgrey')\n",
    "\n",
    "ax.plot(X_lqr[:,0], X_lqr[:,1], label='LQR')\n",
    "#ax.plot(X_lqg[:,0], X_lqg[:,1], label=r'LQG $\\sigma_v = .5$')\n",
    "\n",
    "ax.set_xlim([-(3/2)*np.pi-.3, (1/2)*np.pi+.3])\n",
    "ax.set_ylim([-4.5, 4.5])\n",
    "ax.set_xticks(np.linspace(-(3/2)*np.pi, (1/2)*np.pi, 5), [r'$-\\frac{3}{2}\\pi$', r'$-\\pi$', r'$-\\frac{1}{2}\\pi$', r'$0$', r'$\\frac{1}{2}\\pi$'])\n",
    "ax.set_yticks(np.linspace(-4, 4, 5))\n",
    "\n",
    "ax.set_xlabel(r'angle ($\\phi$)')\n",
    "ax.set_ylabel(r'angular velocity ($\\omega$)')\n",
    "\n",
    "ax.legend()\n",
    "\n",
    "plt.tight_layout()\n",
    "\n",
    "figurename = f'figures/LQR_orbital.png'\n",
    "plt.savefig(figurename, dpi=300)\n",
    "\n",
    "plt.show()"
   ]
  },
  {
   "attachments": {},
   "cell_type": "markdown",
   "metadata": {},
   "source": [
    "### Box-constrained"
   ]
  },
  {
   "cell_type": "code",
   "execution_count": 9,
   "metadata": {},
   "outputs": [],
   "source": [
    "x0 = jnp.array([-4, -4])\n",
    "\n",
    "env = Box_SDI(dt=dt, end_time=T)\n",
    "env.v = jnp.identity(env.dim) * 0\n",
    "controller = LQRSolver(env.A, env.B, env.G, env.R)\n",
    "\n",
    "X_lqr, Y, U, R = run_LQR(env, controller, T=T, dt=dt, x0=x0)\n",
    "idx_tmp = np.where(abs(np.diff(X_lqr[:,1])) > threshold)[0] + 1\n",
    "X_lqr[idx_tmp] = np.nan\n",
    "\n",
    "env.v = jnp.identity(env.dim) * .5\n",
    "controller = LQGSolver(env.A, env.B, env.C, env.w, env.v, env.G, jnp.identity(env.dim), None)\n",
    "\n",
    "X_lqg, _, _, _ = run_LQG(env, controller, T=T, dt=dt, x0=x0)"
   ]
  },
  {
   "cell_type": "code",
   "execution_count": 10,
   "metadata": {},
   "outputs": [],
   "source": [
    "env.v = jnp.identity(env.dim) * 0\n",
    "\n",
    "N = 10\n",
    "\n",
    "x_space = np.linspace(-5, 5, N)\n",
    "v_space = np.linspace(-5, 5, N)\n",
    "xv, vv = np.meshgrid(x_space, v_space)\n",
    "qx = np.zeros((N,N))\n",
    "qv = np.zeros((N,N))\n",
    "\n",
    "for i, x in enumerate(x_space):\n",
    "  for j, v in enumerate(v_space):\n",
    "    state = jnp.array([xv[i,j], vv[i,j]])\n",
    "    dx, dv = env.predict_deriv(state, 0)\n",
    "    qx[i,j] = dx\n",
    "    qv[i,j] = dv"
   ]
  },
  {
   "cell_type": "code",
   "execution_count": 12,
   "metadata": {},
   "outputs": [
    {
     "data": {
      "image/png": "[encoded data removed]",
      "text/plain": [
       "<Figure size 288x216 with 1 Axes>"
      ]
     },
     "metadata": {
      "needs_background": "light"
     },
     "output_type": "display_data"
    }
   ],
   "source": [
    "fig, ax = plt.subplots(figsize=(4, 3))\n",
    "\n",
    "ax.streamplot(xv, vv, qx, qv, density=.3, color='lightgrey')\n",
    "\n",
    "ax.plot(X_lqr[:,0], X_lqr[:,1], label='LQR')\n",
    "#ax.plot(X_lqg[:,0], X_lqg[:,1], label=r'LQG ($\\sigma_v=.5$)')\n",
    "\n",
    "ax.set_xlim([-5.5, 5.5])\n",
    "ax.set_ylim([-4.5, 4.5])\n",
    "ax.set_xticks(np.linspace(-5, 5, 5))\n",
    "ax.set_yticks(np.linspace(-4, 4, 5))\n",
    "\n",
    "ax.set_xlabel('position (x)')\n",
    "ax.set_ylabel('velocity (v)')\n",
    "\n",
    "ax.legend()\n",
    "\n",
    "plt.tight_layout()\n",
    "\n",
    "figurename = f'figures/LQR_box.png'\n",
    "plt.savefig(figurename, dpi=300)\n",
    "\n",
    "plt.show()"
   ]
  },
  {
   "cell_type": "code",
   "execution_count": null,
   "metadata": {},
   "outputs": [],
   "source": []
  }
 ],
 "metadata": {
  "kernelspec": {
   "display_name": "ML3.9",
   "language": "python",
   "name": "python3"
  },
  "language_info": {
   "codemirror_mode": {
    "name": "ipython",
    "version": 3
   },
   "file_extension": ".py",
   "mimetype": "text/x-python",
   "name": "python",
   "nbconvert_exporter": "python",
   "pygments_lexer": "ipython3",
   "version": "3.9.15"
  },
  "orig_nbformat": 4
 },
 "nbformat": 4,
 "nbformat_minor": 2
}
